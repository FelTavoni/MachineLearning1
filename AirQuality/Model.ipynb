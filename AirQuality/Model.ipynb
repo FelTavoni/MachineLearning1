{
 "cells": [
  {
   "cell_type": "markdown",
   "metadata": {},
   "source": [
    "<h1 align=\"center\"> \n",
    "  Air Quality\n",
    "</h1>\n",
    "\n",
    "<h4 align=\"center\">\n",
    "    <img alt=\"AirQuality\" title=\"#AirQuality\" src=\"https://www.healthissuesindia.com/wp-content/uploads/2020/02/81287396_l-2048x1365.jpg\" width=\"400px;\" />\n",
    "</h4>\n",
    "\n",
    "## 🔍 About\n",
    "\n",
    "The following program intends to predict air quality based on the amount of carbon monoxide. This problem purpose by professor Diego Furtado in the discipline of Machine Learning aims to solve a known problem using linear regression methods. In sequence, we'll analyze some approaches to tackle this problem by predicting the quantity of carbon dioxide in the air.\n",
    "\n",
    "In this [link](https://archive.ics.uci.edu/ml/datasets/Air+Quality), you can locate the dataset that was used. We also made a jupyter notebook available for a better comprehension of the topic.\n",
    "\n",
    "### Importing libraries"
   ]
  },
  {
   "cell_type": "code",
   "execution_count": 1,
   "metadata": {},
   "outputs": [],
   "source": [
    "import os\n",
    "import numpy as np\n",
    "import pandas as pd\n",
    "import seaborn as sns\n",
    "import matplotlib.pyplot as plt\n",
    "from sklearn.linear_model import LinearRegression\n",
    "from sklearn.model_selection import train_test_split"
   ]
  },
  {
   "cell_type": "markdown",
   "metadata": {},
   "source": [
    "### Reading and parsing data"
   ]
  },
  {
   "cell_type": "code",
   "execution_count": 2,
   "metadata": {},
   "outputs": [
    {
     "name": "stdout",
     "output_type": "stream",
     "text": [
      "           Date      Time  CO(GT)  PT08.S1(CO)  NMHC(GT)  C6H6(GT)  \\\n",
      "0    2004-10-03  18.00.00     2.6       1360.0     150.0      11.9   \n",
      "1    2004-10-03  19.00.00     2.0       1292.0     112.0       9.4   \n",
      "2    2004-10-03  20.00.00     2.2       1402.0      88.0       9.0   \n",
      "3    2004-10-03  21.00.00     2.2       1376.0      80.0       9.2   \n",
      "4    2004-10-03  22.00.00     1.6       1272.0      51.0       6.5   \n",
      "...         ...       ...     ...          ...       ...       ...   \n",
      "9351 2005-04-04  09.00.00     3.9       1297.0    -200.0      13.6   \n",
      "9352 2005-04-04  10.00.00     3.1       1314.0    -200.0      13.5   \n",
      "9353 2005-04-04  11.00.00     2.4       1163.0    -200.0      11.4   \n",
      "9354 2005-04-04  12.00.00     2.4       1142.0    -200.0      12.4   \n",
      "9355 2005-04-04  13.00.00     2.1       1003.0    -200.0       9.5   \n",
      "\n",
      "      PT08.S2(NMHC)  NOx(GT)  PT08.S3(NOx)  NO2(GT)  PT08.S4(NO2)  \\\n",
      "0            1046.0    166.0        1056.0    113.0        1692.0   \n",
      "1             955.0    103.0        1174.0     92.0        1559.0   \n",
      "2             939.0    131.0        1140.0    114.0        1555.0   \n",
      "3             948.0    172.0        1092.0    122.0        1584.0   \n",
      "4             836.0    131.0        1205.0    116.0        1490.0   \n",
      "...             ...      ...           ...      ...           ...   \n",
      "9351         1102.0    523.0         507.0    187.0        1375.0   \n",
      "9352         1101.0    472.0         539.0    190.0        1374.0   \n",
      "9353         1027.0    353.0         604.0    179.0        1264.0   \n",
      "9354         1063.0    293.0         603.0    175.0        1241.0   \n",
      "9355          961.0    235.0         702.0    156.0        1041.0   \n",
      "\n",
      "      PT08.S5(O3)     T    RH      AH  Day  Month  \n",
      "0          1268.0  13.6  48.9  0.7578    3     10  \n",
      "1           972.0  13.3  47.7  0.7255    3     10  \n",
      "2          1074.0  11.9  54.0  0.7502    3     10  \n",
      "3          1203.0  11.0  60.0  0.7867    3     10  \n",
      "4          1110.0  11.2  59.6  0.7888    3     10  \n",
      "...           ...   ...   ...     ...  ...    ...  \n",
      "9351       1583.0  18.2  36.3  0.7487    4      4  \n",
      "9352       1729.0  21.9  29.3  0.7568    4      4  \n",
      "9353       1269.0  24.3  23.7  0.7119    4      4  \n",
      "9354       1092.0  26.9  18.3  0.6406    4      4  \n",
      "9355        770.0  28.3  13.5  0.5139    4      4  \n",
      "\n",
      "[9356 rows x 17 columns]\n"
     ]
    }
   ],
   "source": [
    "# Reading .csv\n",
    "air_quality = pd.read_csv(os.path.join('data', 'AirQualityUCI.csv'), delimiter=';')\n",
    "\n",
    "# Removing 2 last columns that does not exist. Removing last 114 lines (does not cantain data).\n",
    "air_quality = air_quality.iloc[:9356, :-2]\n",
    "\n",
    "# Converting date of type 'string' to 'Timestamp'\n",
    "air_quality['Date'] = pd.to_datetime(arg=air_quality['Date'])\n",
    "# Parsing dates into 2 new columns, day | month. Year is not really necessary\n",
    "air_quality['Day'] = air_quality['Date'].dt.day\n",
    "air_quality['Month'] = air_quality['Date'].dt.month\n",
    "\n",
    "print(air_quality)"
   ]
  },
  {
   "cell_type": "markdown",
   "metadata": {},
   "source": [
    "### Check missing values for each feature\n",
    "> Some values are missing, which was overfitting our model, since we don't have enough data to perform a robust model."
   ]
  },
  {
   "cell_type": "code",
   "execution_count": 3,
   "metadata": {},
   "outputs": [
    {
     "name": "stdout",
     "output_type": "stream",
     "text": [
      "(827, 17)\n"
     ]
    }
   ],
   "source": [
    "# Performing a imputation (not working yet)\n",
    "# imputer = SimpleImputer(missing_values=np.nan, strategy='mean')\n",
    "# imputer.fit(air_quality['PT08.S1(CO)'])\n",
    "\n",
    "# Dropping rows that contains missing data...\n",
    "# Note that if e delete the rows, we can observe that the amount of observations falls from 9356 to 827, \n",
    "#  losing 91% of data.\n",
    "air_quality.replace(to_replace=-200, value=np.nan, inplace=True)\n",
    "air_quality.dropna(inplace=True)\n",
    "\n",
    "print(air_quality.shape)"
   ]
  },
  {
   "cell_type": "markdown",
   "metadata": {},
   "source": [
    "## Visualizing data\n",
    "\n",
    "> At first, we need to analize dates and times to see if they have any relations with the concentration of molecules.\n",
    "\n",
    "> **HEATMAP NOT WORKING**"
   ]
  },
  {
   "cell_type": "code",
   "execution_count": 22,
   "metadata": {},
   "outputs": [
    {
     "data": {
      "image/png": "[encoded data removed]",
      "text/plain": [
       "<Figure size 1008x1008 with 2 Axes>"
      ]
     },
     "metadata": {
      "needs_background": "light"
     },
     "output_type": "display_data"
    }
   ],
   "source": [
    "plt.figure(figsize=(14,14))\n",
    "baloon = air_quality.pivot_table(columns=\"Day\", index=\"Month\", values=\"CO(GT)\", aggfunc=\"sum\").fillna(0)\n",
    "months = [\"Jan\", \"Feb\", \"Mar\", \"Apr\", \"May\", \"Jun\", \"Jul\", \"Aug\", \"Sep\", \"Oct\", \"Nov\", \"Dec\"]\n",
    "# baloon = baloon.reindex(months)\n",
    "sns.heatmap(baloon, annot=True);"
   ]
  },
  {
   "cell_type": "markdown",
   "metadata": {},
   "source": [
    "### Correlation between all of the features"
   ]
  },
  {
   "cell_type": "code",
   "execution_count": null,
   "metadata": {},
   "outputs": [],
   "source": [
    "# Ploting CO(GT) x all features\n",
    "# g = sns.PairGrid(air_quality, x_vars=['PT08.S1(CO)', 'NMHC(GT)', 'C6H6(GT)', 'PT08.S2(NMHC)', 'NOx(GT)', 'PT08.S3(NOx)', 'NO2(GT)', 'PT08.S4(NO2)', 'PT08.S5(O3)', 'T', 'RH', 'AH'], \n",
    "#                 y_vars='CO(GT)',)\n",
    "# g.map(sns.scatterplot)\n",
    "\n",
    "# Ploting all data\n",
    "g = sns.PairGrid(air_quality, diag_sharey=False, corner=True)\n",
    "g.map_lower(sns.scatterplot)"
   ]
  },
  {
   "cell_type": "code",
   "execution_count": null,
   "metadata": {},
   "outputs": [],
   "source": [
    "# Checking correlation between all features\n",
    "sns.heatmap(air_quality.corr(), annot=True);\n",
    "# plt.show()"
   ]
  },
  {
   "cell_type": "markdown",
   "metadata": {},
   "source": [
    "### Selecting feature to be predicted and those that will be used in model"
   ]
  },
  {
   "cell_type": "code",
   "execution_count": null,
   "metadata": {},
   "outputs": [],
   "source": [
    "# Parsing the attributes based on highest correlation (O3, NO2, NHMC). Dropping those that will not be used.\n",
    "x_air_quality_attributes = air_quality.drop(['CO(GT)', 'PT08.S2(NMHC)', 'PT08.S4(NO2)', 'PT08.S5(O3)'], axis=1)\n",
    "# x_air_quality_attributes = x_air_quality_attributes.apply(pd.to_numeric, errors='coerce')\n",
    "# x_air_quality_attributes.fillna(0, inplace=True)\n",
    "print(x_air_quality_attributes)\n",
    "y_air_quality_attributes = air_quality.drop(['CO(GT)', 'NMHC(GT)', 'C6H6(GT)', 'PT08.S2(NMHC)', 'NOx(GT)', 'PT08.S3(NOx)', 'NO2(GT)', 'PT08.S4(NO2)', 'PT08.S5(O3)', 'T', 'RH', 'AH'], axis=1)\n",
    "# y_air_quality_attributes.fillna(0, inplace=True)\n",
    "print(y_air_quality_attributes)"
   ]
  },
  {
   "cell_type": "markdown",
   "metadata": {},
   "source": [
    "### Building our model"
   ]
  },
  {
   "cell_type": "code",
   "execution_count": null,
   "metadata": {},
   "outputs": [],
   "source": [
    "# Spliting test data\n",
    "x_air_quality_training, x_air_quality_test, y_air_quality_training, y_air_quality_test = train_test_split(x_air_quality_attributes, y_air_quality_attributes, test_size = 0.3, random_state = 0)\n",
    "\n",
    "# print(y_air_quality_test)\n",
    "\n",
    "# Instantiating the regressor\n",
    "regression = LinearRegression()\n",
    "regression.fit(x_air_quality_training, y_air_quality_training)\n",
    "y_air_quality_prediction = regression.predict(x_air_quality_test)\n",
    "\n",
    "# Showing results\n",
    "df = pd.DataFrame(data=y_air_quality_test)\n",
    "df['PT08.S1(CO) - Predicted'] = y_air_quality_prediction\n",
    "print(df)\n",
    "# print(y_air_quality_test)\n",
    "# print(y_air_quality_prediction)\n",
    "# print(prediction)"
   ]
  }
 ],
 "metadata": {
  "interpreter": {
   "hash": "8124406e7fa7d506f09aabbd4f7a32340814543d07724074ccadd198c810a3a0"
  },
  "kernelspec": {
   "display_name": "Python 3 (ipykernel)",
   "language": "python",
   "name": "python3"
  },
  "language_info": {
   "codemirror_mode": {
    "name": "ipython",
    "version": 3
   },
   "file_extension": ".py",
   "mimetype": "text/x-python",
   "name": "python",
   "nbconvert_exporter": "python",
   "pygments_lexer": "ipython3",
   "version": "3.9.7"
  }
 },
 "nbformat": 4,
 "nbformat_minor": 2
}
